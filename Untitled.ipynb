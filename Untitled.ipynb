{
 "cells": [
  {
   "cell_type": "code",
   "execution_count": 2,
   "metadata": {},
   "outputs": [
    {
     "data": {
      "text/plain": [
       "Plots.PlotlyJSBackend()"
      ]
     },
     "execution_count": 2,
     "metadata": {},
     "output_type": "execute_result"
    }
   ],
   "source": [
    "using Jedi, Plots, Statistics, StaticArrays, Distributions, LinearAlgebra, BenchmarkTools, SparseArrays, Random\n",
    "plotlyjs()"
   ]
  },
  {
   "cell_type": "markdown",
   "metadata": {},
   "source": [
    "Create a population."
   ]
  },
  {
   "cell_type": "code",
   "execution_count": 4,
   "metadata": {},
   "outputs": [
    {
     "name": "stdout",
     "output_type": "stream",
     "text": [
      "5.209252454024724\n"
     ]
    }
   ],
   "source": [
    "pop = Jedi.binding_sites(N=100000, L=10)\n",
    "E_S(l) = 7\n",
    "f = Jedi.quadratic_fitness(l=pop.l, c=100/2pop.N, E_Star=E_S)\n",
    "Jedi.initiate_rand!(pop, 20)\n",
    "emat = rand(4, 10);\n",
    "E_0 = Jedi.get_energy(pop, emat)\n",
    "println(mean(E_0))"
   ]
  },
  {
   "cell_type": "markdown",
   "metadata": {},
   "source": [
    "Run simulation."
   ]
  },
  {
   "cell_type": "code",
   "execution_count": 5,
   "metadata": {},
   "outputs": [],
   "source": [
    "E_traj = Array{Float64, 1}[]\n",
    "freq_traj = Array{Int64,1}[]\n",
    "for i in 1:10000\n",
    "    Jedi.sample_gen!(pop, f, emat; remove=false)\n",
    "    #Jedi.mutation!(pop)\n",
    "    push!(E_traj, Jedi.get_energy(pop, emat))\n",
    "    push!(freq_traj, pop.freqs)\n",
    "end"
   ]
  },
  {
   "cell_type": "markdown",
   "metadata": {},
   "source": [
    "Save results."
   ]
  },
  {
   "cell_type": "code",
   "execution_count": 38,
   "metadata": {},
   "outputs": [
    {
     "data": {
      "text/plain": [
       "\"freq_traj.csv\""
      ]
     },
     "execution_count": 38,
     "metadata": {},
     "output_type": "execute_result"
    }
   ],
   "source": [
    "using DataFrames, CSV\n",
    "CSV.write(\"E_traj.csv\", DataFrame(E=E_traj))\n",
    "CSV.write(\"freq_traj.csv\", DataFrame(x=freq_traj))"
   ]
  },
  {
   "cell_type": "code",
   "execution_count": null,
   "metadata": {},
   "outputs": [],
   "source": []
  },
  {
   "cell_type": "code",
   "execution_count": 25,
   "metadata": {},
   "outputs": [
    {
     "data": {
      "text/plain": [
       "4×4 Array{Float64,2}:\n",
       " 1.0  0.0  0.0  0.0\n",
       " 0.0  1.0  0.0  0.0\n",
       " 0.0  0.0  1.0  0.0\n",
       " 0.0  0.0  0.0  1.0"
      ]
     },
     "execution_count": 25,
     "metadata": {},
     "output_type": "execute_result"
    }
   ],
   "source": [
    "pop = Jedi.driver_trailer_l(N=1000, L=20, l_0=10)\n",
    "Jedi.initiate_rand!(pop, 20)\n",
    "E_S(l) = 7\n",
    "f = Jedi.quadratic_fitness(c=1/2pop.N, E_Star=E_S)\n",
    "emat = Matrix{Float64}(I, 4, 4)"
   ]
  },
  {
   "cell_type": "code",
   "execution_count": 26,
   "metadata": {},
   "outputs": [
    {
     "ename": "BoundsError",
     "evalue": "BoundsError: attempt to access 2-element Array{Int64,1} at index [3]",
     "output_type": "error",
     "traceback": [
      "BoundsError: attempt to access 2-element Array{Int64,1} at index [3]",
      "",
      "Stacktrace:",
      " [1] getindex at ./array.jl:787 [inlined]",
      " [2] get_energy(::Jedi.driver_trailer_l, ::Array{Float64,2}) at /Users/tomroschinger/git/Jedi.jl/src/wright_fisher.jl:47",
      " [3] sample_gen!(::Jedi.driver_trailer_l, ::Jedi.quadratic_fitness, ::Array{Float64,2}; remove::Bool) at /Users/tomroschinger/git/Jedi.jl/src/wright_fisher.jl:89",
      " [4] sample_gen!(::Jedi.driver_trailer_l, ::Jedi.quadratic_fitness, ::Array{Float64,2}) at /Users/tomroschinger/git/Jedi.jl/src/wright_fisher.jl:89",
      " [5] top-level scope at ./In[26]:18"
     ]
    },
    {
     "name": "stderr",
     "output_type": "stream",
     "text": [
      "Revise.LogRecord(Error, evaluation error starting at /Users/tomroschinger/.julia/packages/Plots/FYxdA/src/utils.jl:153, lowered, Revise_e943ed8b, \"/Users/tomroschinger/.julia/packages/Revise/jVsKo/src/lowered.jl\", 106, (mod=Plots, ex=begin\n",
      "    #= toplevel:152 =#\n",
      "    for i = 2:4\n",
      "        #= /Users/tomroschinger/.julia/packages/Plots/FYxdA/src/utils.jl:153 =#\n",
      "        #= /Users/tomroschinger/.julia/packages/Plots/FYxdA/src/utils.jl:153 =# @eval begin\n",
      "                #= /Users/tomroschinger/.julia/packages/Plots/FYxdA/src/utils.jl:154 =#\n",
      "                RecipesPipeline.unzip(v::Union{AVec{<:Tuple{Vararg{T, $i} where T}}, AVec{<:GeometryTypes.Point{$i}}}) = begin\n",
      "                        #= /Users/tomroschinger/.julia/packages/Plots/FYxdA/src/utils.jl:155 =#\n",
      "                        $(Expr(:tuple, (:([t[$j] for t = v]) for j = 1:i)...))\n",
      "                    end\n",
      "            end\n",
      "    end\n",
      "end)\u001b[91mMethodError: no method matching (::Plots.var\"#554#555\")(::Int64)\u001b[39m\n",
      "\u001b[91mThe applicable method may be too new: running in world age 27145, while current world is 27538.\u001b[39m\n",
      "\u001b[91m\u001b[0mClosest candidates are:\u001b[39m\n",
      "\u001b[91m\u001b[0m  #554(::Any) at none:0 (method too new to be called from this world context.)\u001b[39m\n",
      "Stacktrace:\n",
      " [1] \u001b[1miterate\u001b[22m\u001b[1m(\u001b[22m::Base.Generator{UnitRange{Int64},Plots.var\"#554#555\"}\u001b[1m)\u001b[22m at \u001b[1m./generator.jl:47\u001b[22m\n",
      " [2] \u001b[1mappend_any\u001b[22m\u001b[1m(\u001b[22m::Any, ::Vararg{Any,N} where N\u001b[1m)\u001b[22m at \u001b[1m/Users/tomroschinger/.julia/packages/JuliaInterpreter/fh7AN/src/packagedef.jl:31\u001b[22m)"
     ]
    }
   ],
   "source": [
    "mu = 10 / pop.N\n",
    "rho = 1 / pop.N\n",
    "nu = 0.1 / pop.N\n",
    "\n",
    "mu_muts = rand(Poisson(mu), 1000000)\n",
    "rho_muts = rand(Poisson(rho), 1000000)\n",
    "nu_muts = rand(Poisson(nu), 1000000)\n",
    "for i in 1:1000000\n",
    "    for j in 1:mu_muts[i]\n",
    "        Jedi.mutation!(pop)\n",
    "    end\n",
    "    for j in 1:rho_muts[i]\n",
    "        Jedi.driver_mutation!(pop)\n",
    "    end\n",
    "    for j in 1:nu_muts[i]\n",
    "        Jedi.length_mutation!(pop)\n",
    "    end\n",
    "    Jedi.sample_gen!(pop, f, emat)\n",
    "end"
   ]
  },
  {
   "cell_type": "code",
   "execution_count": 13,
   "metadata": {},
   "outputs": [
    {
     "data": {
      "text/plain": [
       "1-element Array{Int64,1}:\n",
       " 10"
      ]
     },
     "execution_count": 13,
     "metadata": {},
     "output_type": "execute_result"
    }
   ],
   "source": [
    "pop.l"
   ]
  },
  {
   "cell_type": "code",
   "execution_count": 292,
   "metadata": {},
   "outputs": [
    {
     "data": {
      "text/plain": [
       "1-element Array{Array{Int64,1},1}:\n",
       " [1, 2, 3, 4, 2, 1, 3, 3, 3, 3]"
      ]
     },
     "execution_count": 292,
     "metadata": {},
     "output_type": "execute_result"
    }
   ],
   "source": [
    "pop.seqs"
   ]
  },
  {
   "cell_type": "code",
   "execution_count": 293,
   "metadata": {},
   "outputs": [
    {
     "data": {
      "text/plain": [
       "10-element Array{Int64,1}:\n",
       " 3\n",
       " 3\n",
       " 3\n",
       " 4\n",
       " 1\n",
       " 1\n",
       " 3\n",
       " 2\n",
       " 3\n",
       " 3"
      ]
     },
     "execution_count": 293,
     "metadata": {},
     "output_type": "execute_result"
    }
   ],
   "source": [
    "pop.driver"
   ]
  },
  {
   "cell_type": "code",
   "execution_count": null,
   "metadata": {},
   "outputs": [],
   "source": []
  }
 ],
 "metadata": {
  "kernelspec": {
   "display_name": "Julia 1.5.1",
   "language": "julia",
   "name": "julia-1.5"
  },
  "language_info": {
   "file_extension": ".jl",
   "mimetype": "application/julia",
   "name": "julia",
   "version": "1.5.1"
  }
 },
 "nbformat": 4,
 "nbformat_minor": 4
}
