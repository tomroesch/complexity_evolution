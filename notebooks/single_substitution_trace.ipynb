{
 "cells": [
  {
   "cell_type": "markdown",
   "metadata": {},
   "source": [
    "# Single Substitution Simulation Run Trace"
   ]
  },
  {
   "cell_type": "markdown",
   "metadata": {},
   "source": [
    "(c) 2020 Tom Röschinger. This work is licensed under a [Creative Commons Attribution License CC-BY 4.0](https://creativecommons.org/licenses/by/4.0/). All code contained herein is licensed under an [MIT license](https://opensource.org/licenses/MIT)."
   ]
  },
  {
   "cell_type": "markdown",
   "metadata": {},
   "source": [
    "***"
   ]
  },
  {
   "cell_type": "code",
   "execution_count": 29,
   "metadata": {},
   "outputs": [
    {
     "data": {
      "text/plain": [
       "4×4 Array{Float64,2}:\n",
       " 0.0  2.0  2.0  2.0\n",
       " 2.0  0.0  2.0  2.0\n",
       " 2.0  2.0  0.0  2.0\n",
       " 2.0  2.0  2.0  0.0"
      ]
     },
     "execution_count": 29,
     "metadata": {},
     "output_type": "execute_result"
    }
   ],
   "source": [
    "using LinearAlgebra, Jevo, Jedi, Plots, LambertW\n",
    "Jedi.default_gr!()\n",
    "\n",
    "# Parameters\n",
    "reps = 500\n",
    "steps = 1 * 10^7\n",
    "rho = 0\n",
    "l_0 = 10\n",
    "N = 1000\n",
    "nu = 1/N\n",
    "emat = 2 * (ones(4, 4) - Matrix{Float64}(I, 4, 4))"
   ]
  },
  {
   "cell_type": "code",
   "execution_count": 30,
   "metadata": {},
   "outputs": [
    {
     "data": {
      "text/plain": [
       "0.19506849093440157"
      ]
     },
     "execution_count": 30,
     "metadata": {},
     "output_type": "execute_result"
    }
   ],
   "source": [
    "f0 = 200/2N\n",
    "ϵ = 2\n",
    "n = 4\n",
    "\n",
    "l0_kappa(kappa, l) = 1/2 * lambertw(2 * ϵ^2 * N * l * f0 * (n-1)/n^2 * exp(10)/(1+kappa))\n",
    "fl(l_opt) = l0_kappa(0, 10)/10^2 * n^2 / (n-1) * 1/ϵ\n",
    "\n",
    "F = Jevo.fermi_fitness(f0=f0, fl=fl(10)/2N)\n",
    "fl(10)"
   ]
  },
  {
   "cell_type": "code",
   "execution_count": null,
   "metadata": {},
   "outputs": [],
   "source": [
    "pop = Jevo.mono_pop(N=1000, l=l_0)\n",
    "Jevo.initiate!(pop, opt=true)\n",
    "t = zeros(2, steps)\n",
    "for i in 1:steps\n",
    "    Jevo.bp_substitution!(pop, emat, F)\n",
    "    if rand() < rho/N\n",
    "        Jevo.driver_mutation!(pop)\n",
    "    end\n",
    "    if rand() < nu\n",
    "        #attempted += 1\n",
    "        temp_l = length(pop.seqs)\n",
    "        Jevo.l_substitution!(pop, emat, F)\n",
    "        #if temp_l != length(pop.seqs)\n",
    "            #accepted += 1\n",
    "        #end\n",
    "    end\n",
    "    # Recover lost sites\n",
    "    if length(pop.seqs) < 7\n",
    "        Jevo.initiate!(pop, opt=true)\n",
    "    end\n",
    "    t[:, i] = [Jevo.get_energy(pop, emat), length(pop.seqs)] \n",
    "end"
   ]
  },
  {
   "cell_type": "code",
   "execution_count": null,
   "metadata": {},
   "outputs": [],
   "source": [
    "plot(t[2, 1:150:end])"
   ]
  },
  {
   "cell_type": "code",
   "execution_count": null,
   "metadata": {},
   "outputs": [],
   "source": []
  }
 ],
 "metadata": {
  "kernelspec": {
   "display_name": "Julia 1.5.1",
   "language": "julia",
   "name": "julia-1.5"
  },
  "language_info": {
   "file_extension": ".jl",
   "mimetype": "application/julia",
   "name": "julia",
   "version": "1.5.1"
  }
 },
 "nbformat": 4,
 "nbformat_minor": 4
}
