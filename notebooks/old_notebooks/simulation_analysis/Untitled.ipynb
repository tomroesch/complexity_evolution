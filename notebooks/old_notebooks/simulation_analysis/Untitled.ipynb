{
 "cells": [
  {
   "cell_type": "code",
   "execution_count": 5,
   "metadata": {},
   "outputs": [
    {
     "data": {
      "text/plain": [
       "Plots.GRBackend()"
      ]
     },
     "execution_count": 5,
     "metadata": {},
     "output_type": "execute_result"
    }
   ],
   "source": [
    "using LinearAlgebra, Jevo, Jedi, Plots, LambertW, CSV, DataFrames, Statistics\n",
    "Jedi.default_gr!()"
   ]
  },
  {
   "cell_type": "code",
   "execution_count": 9,
   "metadata": {},
   "outputs": [
    {
     "data": {
      "text/plain": [
       "Dict{String,String} with 8 entries:\n",
       "  \"l_0\"         => \"10\"\n",
       "  \"f0\"          => \"0.25\"\n",
       "  \"nu\"          => \"0.01\"\n",
       "  \"fl\"          => \"fl\"\n",
       "  \"steps\"       => \"20000000\"\n",
       "  \"N\"           => \"100\"\n",
       "  \"repetitions\" => \"200\"\n",
       "  \"rho\"         => \"[0.0, 0.1, 0.2, 0.3, 0.4, 0.5, 0.6, 0.7, 0.8, 0.9, 1.0]\""
      ]
     },
     "execution_count": 9,
     "metadata": {},
     "output_type": "execute_result"
    }
   ],
   "source": [
    "df = CSV.read(\"../../outputs/2020_12_16_supp_n_20.csv\", DataFrame)\n",
    "cdf = combine(groupby(df, \"rho\"), [:l] =>((x) -> (l_mean=mean(x), l_std=std(x))) =>\n",
    "               AsTable)\n",
    "parameters = Jevo.parse_metadata(\"../../outputs/2020_12_16_supp_n_20METADATA.txt\")"
   ]
  },
  {
   "cell_type": "code",
   "execution_count": 10,
   "metadata": {},
   "outputs": [
    {
     "data": {
      "text/html": [
       "<table class=\"data-frame\"><thead><tr><th></th><th>rho</th><th>l_mean</th><th>l_std</th></tr><tr><th></th><th>Float64</th><th>Float64</th><th>Float64</th></tr></thead><tbody><p>11 rows × 3 columns</p><tr><th>1</th><td>0.0</td><td>8.34</td><td>0.525147</td></tr><tr><th>2</th><td>0.1</td><td>8.715</td><td>0.765969</td></tr><tr><th>3</th><td>0.2</td><td>9.025</td><td>1.09562</td></tr><tr><th>4</th><td>0.3</td><td>9.115</td><td>1.37887</td></tr><tr><th>5</th><td>0.4</td><td>9.13</td><td>1.46074</td></tr><tr><th>6</th><td>0.5</td><td>9.21</td><td>1.53548</td></tr><tr><th>7</th><td>0.6</td><td>9.3</td><td>1.51376</td></tr><tr><th>8</th><td>0.7</td><td>9.005</td><td>1.69094</td></tr><tr><th>9</th><td>0.8</td><td>8.885</td><td>1.89466</td></tr><tr><th>10</th><td>0.9</td><td>8.825</td><td>1.67583</td></tr><tr><th>11</th><td>1.0</td><td>8.625</td><td>1.69965</td></tr></tbody></table>"
      ],
      "text/latex": [
       "\\begin{tabular}{r|ccc}\n",
       "\t& rho & l\\_mean & l\\_std\\\\\n",
       "\t\\hline\n",
       "\t& Float64 & Float64 & Float64\\\\\n",
       "\t\\hline\n",
       "\t1 & 0.0 & 8.34 & 0.525147 \\\\\n",
       "\t2 & 0.1 & 8.715 & 0.765969 \\\\\n",
       "\t3 & 0.2 & 9.025 & 1.09562 \\\\\n",
       "\t4 & 0.3 & 9.115 & 1.37887 \\\\\n",
       "\t5 & 0.4 & 9.13 & 1.46074 \\\\\n",
       "\t6 & 0.5 & 9.21 & 1.53548 \\\\\n",
       "\t7 & 0.6 & 9.3 & 1.51376 \\\\\n",
       "\t8 & 0.7 & 9.005 & 1.69094 \\\\\n",
       "\t9 & 0.8 & 8.885 & 1.89466 \\\\\n",
       "\t10 & 0.9 & 8.825 & 1.67583 \\\\\n",
       "\t11 & 1.0 & 8.625 & 1.69965 \\\\\n",
       "\\end{tabular}\n"
      ],
      "text/plain": [
       "\u001b[1m11×3 DataFrame\u001b[0m\n",
       "\u001b[1m Row \u001b[0m│\u001b[1m rho     \u001b[0m\u001b[1m l_mean  \u001b[0m\u001b[1m l_std    \u001b[0m\n",
       "\u001b[1m     \u001b[0m│\u001b[90m Float64 \u001b[0m\u001b[90m Float64 \u001b[0m\u001b[90m Float64  \u001b[0m\n",
       "─────┼────────────────────────────\n",
       "   1 │     0.0    8.34   0.525147\n",
       "   2 │     0.1    8.715  0.765969\n",
       "   3 │     0.2    9.025  1.09562\n",
       "   4 │     0.3    9.115  1.37887\n",
       "   5 │     0.4    9.13   1.46074\n",
       "   6 │     0.5    9.21   1.53548\n",
       "   7 │     0.6    9.3    1.51376\n",
       "   8 │     0.7    9.005  1.69094\n",
       "   9 │     0.8    8.885  1.89466\n",
       "  10 │     0.9    8.825  1.67583\n",
       "  11 │     1.0    8.625  1.69965"
      ]
     },
     "execution_count": 10,
     "metadata": {},
     "output_type": "execute_result"
    }
   ],
   "source": []
  },
  {
   "cell_type": "code",
   "execution_count": null,
   "metadata": {},
   "outputs": [],
   "source": []
  }
 ],
 "metadata": {
  "kernelspec": {
   "display_name": "Julia 1.5.1",
   "language": "julia",
   "name": "julia-1.5"
  },
  "language_info": {
   "file_extension": ".jl",
   "mimetype": "application/julia",
   "name": "julia",
   "version": "1.5.1"
  }
 },
 "nbformat": 4,
 "nbformat_minor": 4
}
